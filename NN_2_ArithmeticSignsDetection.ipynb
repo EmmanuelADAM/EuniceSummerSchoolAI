{
 "cells": [
  {
   "cell_type": "markdown",
   "metadata": {
    "colab_type": "text",
    "id": "view-in-github"
   },
   "source": [
    "<a href=\"https://colab.research.google.com/github/EmmanuelADAM/IntelligenceArtificiellePython/blob/master/summerSchool/NN_2_ArithmeticSignsDetection.ipynb\" target=\"_parent\"><img src=\"https://colab.research.google.com/assets/colab-badge.svg\" alt=\"Open In Colab\"/></a>"
   ]
  },
  {
   "cell_type": "markdown",
   "metadata": {
    "colab_type": "text",
    "id": "3qF8xmpAdACr"
   },
   "source": [
    "# Arithmetic Signs Detection\n",
    "\n",
    "In this exercise, the goal is to create a very basic system for detecting arithmetic signs (+, -, x, /) using neural networks based on a 3x3 point representation."
   ]
  },
  {
   "cell_type": "markdown",
   "metadata": {
    "colab_type": "text",
    "id": "JZpJB9iOdRS3"
   },
   "source": [
    "---\n",
    "## Import the  libraries"
   ]
  },
  {
   "cell_type": "code",
   "execution_count": 1,
   "metadata": {
    "colab": {},
    "colab_type": "code",
    "id": "odDg9S7xdFsv"
   },
   "outputs": [],
   "source": [
    "# Import the torch library\n",
    "import torch\n",
    "# Import the Neural Network class\n",
    "import torch.nn as nn\n",
    "# Import the optimizers class\n",
    "import torch.optim as optim\n",
    "import numpy as np\n",
    "import matplotlib.pyplot as plt"
   ]
  },
  {
   "cell_type": "markdown",
   "metadata": {
    "colab_type": "text",
    "id": "XN8WXXdTdXx0"
   },
   "source": [
    "---\n",
    "## Define inputs and outputs\n",
    "Images of arithmetics signs are digitalized on 9 pixels (3x3).\n",
    "<img src=\"./arithmDessins.PNG\" width=\"400\">\n",
    "\n",
    "So, the inputs consist of 9 pixels (3x3) and the outputs correspond to the probability that the input is +, -, x, or /.\n",
    "\n",
    "For a neural network, we have 1 layer of 4 neurones, connected each to the nine entries."
   ]
  },
  {
   "cell_type": "markdown",
   "metadata": {},
   "source": [
    "<img src=\"./NNArtithm.PNG\" width=\"400\">"
   ]
  },
  {
   "cell_type": "code",
   "execution_count": 2,
   "metadata": {
    "colab": {},
    "colab_type": "code",
    "id": "A1mjGN2Bb5Ki"
   },
   "outputs": [],
   "source": [
    "# Define inputs and outputs based on the table\n",
    "inputs = np.array([\n",
    "    [0,1,0,\n",
    "     1,1,1,\n",
    "     0,1,0],\n",
    "    [0,0,0,\n",
    "     1,1,1,\n",
    "     0,0,0],\n",
    "    [1,0,1,\n",
    "     0,1,0,\n",
    "     1,0,1],\n",
    "    [0,0,1,\n",
    "     0,1,0,\n",
    "     1,0,0]],float) \n",
    "\n",
    "outputs = np.array([[1,0,0,0], [0,1,0,0], [0,0,1,0], [0,0,0,1]], float)\n",
    "\n",
    "operators = ['+','-','x','/']"
   ]
  },
  {
   "cell_type": "code",
   "execution_count": 4,
   "metadata": {},
   "outputs": [],
   "source": [
    "# Convert inputs and outputs to tensors\n",
    "tensor_X = torch.tensor(inputs, dtype=torch.float32)\n",
    "tensor_y = torch.tensor(outputs, dtype=torch.float32)"
   ]
  },
  {
   "cell_type": "markdown",
   "metadata": {
    "colab_type": "text",
    "id": "SC-1MnShdwe0"
   },
   "source": [
    "---\n",
    "\n",
    "## Choose the network model\n"
   ]
  },
  {
   "cell_type": "markdown",
   "metadata": {
    "colab_type": "text",
    "id": "Jo5Ej8kkd8nh"
   },
   "source": [
    "---\n",
    "\n",
    "Here, a very simple network:\n",
    "\n",
    "An output layer consisting of 4 neurons (probability that the image is $+$, $-$, $\\times$, or $/$), each connected to nine inputs (1 per pixel).\n"
   ]
  },
  {
   "cell_type": "code",
   "execution_count": 5,
   "metadata": {},
   "outputs": [],
   "source": [
    "model = nn.Sequential()"
   ]
  },
  {
   "cell_type": "code",
   "execution_count": 6,
   "metadata": {},
   "outputs": [],
   "source": [
    "# Add a linear layer with 9 inputs and 4 outputs, with bias\n",
    "model.add_module('unique layer', nn.Linear(9, 4, bias=True))\n",
    "# Add a sigmoid activation function\n",
    "model.add_module('sigmoid', nn.Sigmoid())"
   ]
  },
  {
   "cell_type": "markdown",
   "metadata": {
    "colab_type": "text",
    "id": "8L4LxSBWeaF1"
   },
   "source": [
    "---\n",
    "## Error correction\n",
    "Here, we specify that the error correction algorithm is *'adam'*, and that the calculated error is the mean of the squared errors (difference between the calculated output and the expected output). We also indicate that we want to see the learning accuracy appear."
   ]
  },
  {
   "cell_type": "code",
   "execution_count": 7,
   "metadata": {
    "colab": {},
    "colab_type": "code",
    "id": "HlnG97g7cQKW"
   },
   "outputs": [],
   "source": [
    "# Use the mean squared error function\n",
    "criterion = nn.MSELoss()\n",
    "# Use the Adam optimizer\n",
    "optimizer = optim.Adam(model.parameters(), lr=0.01)"
   ]
  },
  {
   "cell_type": "markdown",
   "metadata": {
    "colab_type": "text",
    "id": "rZ4IQ-bIdtN1"
   },
   "source": [
    "---\n",
    "\n",
    "## Train the network\n"
   ]
  },
  {
   "cell_type": "code",
   "execution_count": 14,
   "metadata": {
    "colab": {
     "base_uri": "https://localhost:8080/",
     "height": 148
    },
    "colab_type": "code",
    "id": "ddTla-J_cfz8",
    "outputId": "0fd3cade-cd59-41db-c5f6-0ea22e48cac0"
   },
   "outputs": [
    {
     "name": "stdout",
     "output_type": "stream",
     "text": [
      "Epoch [10/100], Loss: 0.0540\n",
      "Epoch [10/100], accuracy: 1.0000\n",
      "Epoch [20/100], Loss: 0.0488\n",
      "Epoch [20/100], accuracy: 1.0000\n",
      "Epoch [30/100], Loss: 0.0442\n",
      "Epoch [30/100], accuracy: 1.0000\n",
      "Epoch [40/100], Loss: 0.0402\n",
      "Epoch [40/100], accuracy: 1.0000\n",
      "Epoch [50/100], Loss: 0.0367\n",
      "Epoch [50/100], accuracy: 1.0000\n",
      "Epoch [60/100], Loss: 0.0336\n",
      "Epoch [60/100], accuracy: 1.0000\n",
      "Epoch [70/100], Loss: 0.0308\n",
      "Epoch [70/100], accuracy: 1.0000\n",
      "Epoch [80/100], Loss: 0.0284\n",
      "Epoch [80/100], accuracy: 1.0000\n",
      "Epoch [90/100], Loss: 0.0263\n",
      "Epoch [90/100], accuracy: 1.0000\n",
      "Epoch [100/100], Loss: 0.0243\n",
      "Epoch [100/100], accuracy: 1.0000\n"
     ]
    }
   ],
   "source": [
    "# Launch training over nb_iter iterations\n",
    "nb_iter = 100\n",
    "# Define how often to print the loss and accuracy\n",
    "step_to_print = nb_iter/10\n",
    "\n",
    "# ++ Set the model to training mode ++\n",
    "model.train()  \n",
    "\n",
    "# Initialize a list to store losses for each epoch, just in case we want to visualize them later\n",
    "losses = []\n",
    "# Initialize a list to store accuracies for each epoch, if needed\n",
    "accuracies = []\n",
    "\n",
    "# ++ Train the model ++\n",
    "# Loop over the number of iterations\n",
    "for epoch in range(nb_iter):\n",
    "    # Calculate outputs and loss\n",
    "    outputs = model(tensor_X)\n",
    "\n",
    "    loss = criterion(outputs, tensor_y)\n",
    "    losses.append(loss.item())  # Store the loss for this epoch\n",
    "\n",
    "    # Compute accuracy\n",
    "    predicted_label = torch.argmax(outputs, dim=1)  # Get the predicted class\n",
    "    actual_label = torch.argmax(tensor_y, dim=1)  # Get the actual class\n",
    "    correct_labels = (predicted_label == actual_label).sum().item()\n",
    "    total_labels = actual_label.size(0)\n",
    "    accuracy = correct_labels / total_labels\n",
    "    accuracies.append(accuracy)  # Store the accuracy for this epoch\n",
    "\n",
    "    # Backpropagation and optimization\n",
    "    # Reset gradients to zero\n",
    "    optimizer.zero_grad()\n",
    "    # Calculate gradients\n",
    "    loss.backward()\n",
    "    # Update weights\n",
    "    optimizer.step()\n",
    "\n",
    "    # For demonstration, display the loss every 100 epochs\n",
    "    if (epoch+1) % step_to_print == 0:\n",
    "        print(f'Epoch [{epoch+1}/100], Loss: {loss.item():.4f}')\n",
    "        print(f'Epoch [{epoch+1}/100], accuracy: {accuracy:.4f}')\n",
    "        \n"
   ]
  },
  {
   "cell_type": "markdown",
   "metadata": {},
   "source": [
    "## Display weights\n",
    "Just for information, what are the weights ? \n",
    "\n",
    "We have 4 neurons (for detecting $+-\\times/$), each connected to 9 entries, so we have $4 \\times 9$ weights + $4$ (if we use *bias*)."
   ]
  },
  {
   "cell_type": "code",
   "execution_count": 15,
   "metadata": {},
   "outputs": [
    {
     "name": "stdout",
     "output_type": "stream",
     "text": [
      "Model weights:\n",
      "Layer: unique layer.weight\n",
      "Weights:\n",
      "Neuron 0, operator '+', weights: [-0.2667016   1.3002272  -0.4789926  -0.23698421 -0.5430291   0.21623111\n",
      " -0.55295664  1.2283437  -0.6604394 ]\n",
      "Neuron 1, operator '-', weights: [-0.6520852  -1.26172    -0.6857051   1.0193808  -0.31683058  0.84414005\n",
      " -0.978965   -1.2625303  -0.38102463]\n",
      "Neuron 2, operator 'x', weights: [ 1.2332882  -0.20110969  0.14467824 -0.58819264 -0.5278266  -0.8617794\n",
      " -0.15660685 -0.39401275  1.1768048 ]\n",
      "Neuron 3, operator '/', weights: [-1.6979684  -0.8844406   0.86432564 -0.8084252  -0.12020198 -1.0946099\n",
      "  0.94196516 -0.4397303  -1.7280588 ]\n",
      "Layer: unique layer.bias\n",
      "Weights:\n",
      "Neuron 0, operator '+', weights: -0.6977821588516235\n",
      "Neuron 1, operator '-', weights: -0.33683815598487854\n",
      "Neuron 2, operator 'x', weights: -0.6599982380867004\n",
      "Neuron 3, operator '/', weights: -0.144973486661911\n"
     ]
    }
   ],
   "source": [
    "# print the weights of the model\n",
    "print(\"Model weights:\")\n",
    "for name, param in model.named_parameters():\n",
    "    if param.requires_grad:\n",
    "        print(f\"Layer: {name}\")\n",
    "        weights = param.data.detach().numpy()\n",
    "        print(\"Weights:\")\n",
    "        for i in range(weights.shape[0]):\n",
    "            print(f\"Neuron {i}, operator '{operators[i]}', weights: {weights[i]}\")\n",
    "    if 'unique_layer.bias' in name:\n",
    "        print(\"weights accorded to bias for +,-,x,/ neurons:\")\n",
    "        print(param.data)"
   ]
  },
  {
   "cell_type": "markdown",
   "metadata": {
    "colab_type": "text",
    "id": "I0zBYIALlDYp"
   },
   "source": [
    "---\n",
    "\n",
    "## Plot the evolution of error and accuracy\n",
    "\n"
   ]
  },
  {
   "cell_type": "markdown",
   "metadata": {},
   "source": [
    "#### Trace the error correction\n",
    "- Error should decrease, if not, there is a problem in the data, or in the model..."
   ]
  },
  {
   "cell_type": "code",
   "execution_count": 16,
   "metadata": {},
   "outputs": [
    {
     "data": {
      "image/png": "[encoded data removed]",
      "text/plain": [
       "<Figure size 640x480 with 1 Axes>"
      ]
     },
     "metadata": {},
     "output_type": "display_data"
    }
   ],
   "source": [
    "## dessiner la courbe de précision\n",
    "\n",
    "epochs = range(1, len(losses) + 1)\n",
    "\n",
    "plt.plot(epochs, losses, 'b--')\n",
    "plt.title('errors by epoch')\n",
    "plt.xlabel('Epochs')\n",
    "plt.ylabel('losses')\n",
    "\n",
    "plt.show()"
   ]
  },
  {
   "cell_type": "code",
   "execution_count": 17,
   "metadata": {},
   "outputs": [
    {
     "data": {
      "image/png": "[encoded data removed]",
      "text/plain": [
       "<Figure size 640x480 with 1 Axes>"
      ]
     },
     "metadata": {},
     "output_type": "display_data"
    }
   ],
   "source": [
    "\n",
    "# draw the loss evolution in blue\n",
    "plt.plot(epochs, accuracies, 'r--')\n",
    "plt.title('accuracy by epoch')\n",
    "plt.xlabel('Epochs')\n",
    "plt.ylabel('Accuracy')\n",
    "\n",
    "plt.show()"
   ]
  },
  {
   "cell_type": "markdown",
   "metadata": {
    "colab_type": "text",
    "id": "N38spzckmMMJ"
   },
   "source": [
    "---\n",
    "## Using the network\n",
    "Testing initial inputs:"
   ]
  },
  {
   "cell_type": "code",
   "execution_count": 18,
   "metadata": {},
   "outputs": [
    {
     "name": "stdout",
     "output_type": "stream",
     "text": [
      "[[0.78022987 0.21175179 0.03794554 0.02952978]\n",
      " [0.2207047  0.7702728  0.06674514 0.10264174]\n",
      " [0.03916943 0.03384775 0.77035904 0.13182572]\n",
      " [0.0934042  0.08961549 0.23151906 0.8236268 ]]\n"
     ]
    }
   ],
   "source": [
    "predictions = model(tensor_X)\n",
    "predictions = predictions.detach().numpy()  # Convert the tensor to numpy array for easier handling\n",
    "print(predictions)"
   ]
  },
  {
   "cell_type": "code",
   "execution_count": 19,
   "metadata": {},
   "outputs": [
    {
     "data": {
      "image/png": "[encoded data removed]",
      "text/plain": [
       "<Figure size 1000x200 with 4 Axes>"
      ]
     },
     "metadata": {},
     "output_type": "display_data"
    }
   ],
   "source": [
    "fig, axes = plt.subplots(1, len(inputs), figsize=(10, 2))  \n",
    "\n",
    "for i in range(len(inputs)):\n",
    "    axes[i].matshow(np.reshape(inputs[i],(3,3)), cmap='BuGn')\n",
    "    title = f\"pred '{operators[np.argmax(predictions[i])]}', certitude {np.max(predictions[i])*100:.2f} %\"\n",
    "    axes[i].set_title(title, fontsize=10)\n",
    "\n",
    "plt.tight_layout()\n",
    "plt.show()\n",
    "\n"
   ]
  },
  {
   "cell_type": "markdown",
   "metadata": {},
   "source": [
    "### Degraded inputs\n",
    "\n",
    "Let's imagine we have poor resolution or photos with noise\n",
    "\n"
   ]
  },
  {
   "cell_type": "code",
   "execution_count": 24,
   "metadata": {},
   "outputs": [],
   "source": [
    "input_tests = np.array([\n",
    "    [0,1,0, 1,1,0, 0,1,0],\n",
    "    [0,0,0, 0,1,1, 0,0,0],\n",
    "    [1,0,0, 0,0,0, 1,0,1],\n",
    "    [0,0,1, 0,0,0, 1,0,0]],float) "
   ]
  },
  {
   "cell_type": "code",
   "execution_count": 25,
   "metadata": {},
   "outputs": [
    {
     "data": {
      "image/png": "[encoded data removed]",
      "text/plain": [
       "<Figure size 1000x200 with 4 Axes>"
      ]
     },
     "metadata": {},
     "output_type": "display_data"
    }
   ],
   "source": [
    "fig, axes = plt.subplots(1, 4, figsize=(10, 2))  \n",
    "for i in range(len(input_tests)):\n",
    "    axes[i].matshow(np.reshape(input_tests[i],(3,3)), cmap='BuGn')\n",
    "plt.tight_layout()\n",
    "plt.show()"
   ]
  },
  {
   "cell_type": "markdown",
   "metadata": {},
   "source": [
    "### Compute estimation\n",
    "Let's ask to the neural network"
   ]
  },
  {
   "cell_type": "code",
   "execution_count": 26,
   "metadata": {},
   "outputs": [
    {
     "name": "stdout",
     "output_type": "stream",
     "text": [
      "[[0.74092376 0.10353603 0.08540007 0.08334278]\n",
      " [0.2641362  0.5474744  0.11409239 0.20427519]\n",
      " [0.10175455 0.08715222 0.83110625 0.06729297]\n",
      " [0.15062194 0.11904465 0.33806553 0.8404147 ]]\n"
     ]
    }
   ],
   "source": [
    "tensor_test_X = torch.tensor(input_tests, dtype=torch.float32)\n",
    "predictions_test = model(tensor_test_X)\n",
    "predictions_test = predictions_test.detach().numpy()  # Convert the tensor to numpy array for easier handling\n",
    "print(predictions_test)"
   ]
  },
  {
   "cell_type": "code",
   "execution_count": 23,
   "metadata": {},
   "outputs": [
    {
     "data": {
      "image/png": "[encoded data removed]",
      "text/plain": [
       "<Figure size 1000x200 with 4 Axes>"
      ]
     },
     "metadata": {},
     "output_type": "display_data"
    }
   ],
   "source": [
    "fig, axes = plt.subplots(1, 4, figsize=(10, 2))  # 1 ligne, 4 colonnes\n",
    "\n",
    "for i in range(len(input_tests)):\n",
    "#    plt.figure(figsize=(1, 1))\n",
    "    axes[i].matshow(np.reshape(input_tests[i],(3,3)), cmap='BuGn')\n",
    "    title = f\"pred '{operators[np.argmax(predictions_test[i])]}', certitude {np.max(predictions_test[i])*100:.2f} %\"\n",
    "    axes[i].set_title(title, fontsize=10)\n",
    "# Ajuster l'espacement entre les sous-graphiques\n",
    "plt.tight_layout()\n",
    "\n",
    "# Afficher la figure\n",
    "plt.show()\n"
   ]
  },
  {
   "cell_type": "markdown",
   "metadata": {},
   "source": [
    "**This is the main strength of a neural network !** : Be able to *\"guess\"*, to *\"understand\"* from unknown inputs!\n",
    "\n",
    "- <red>**NO!**</red> the neural network just compute $f(weights \\times entries)$. It will always propose a value.\n",
    "- It has no capacity for understanding\n",
    "- antropomorphims is the attribution of human traits to animals\n",
    "- **personification** is the attribution of human characteristics to abstract ideas, natural phenomena, or inanimate objects.\n",
    "- *personification* can be used to illustrate, but be careful, numerical AI just compute figures...\n"
   ]
  }
 ],
 "metadata": {
  "colab": {
   "collapsed_sections": [],
   "name": "TestOUX.ipynb",
   "provenance": [],
   "version": "0.3.2"
  },
  "kernelspec": {
   "display_name": "Python 3",
   "language": "python",
   "name": "python3"
  },
  "language_info": {
   "codemirror_mode": {
    "name": "ipython",
    "version": 3
   },
   "file_extension": ".py",
   "mimetype": "text/x-python",
   "name": "python",
   "nbconvert_exporter": "python",
   "pygments_lexer": "ipython3",
   "version": "3.13.1"
  }
 },
 "nbformat": 4,
 "nbformat_minor": 4
}
